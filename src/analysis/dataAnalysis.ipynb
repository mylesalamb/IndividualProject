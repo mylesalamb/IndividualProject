{
 "cells": [
  {
   "cell_type": "markdown",
   "metadata": {},
   "source": [
    "# Data analysis for \"Where is ECN stripped on the network\"\n",
    "\n"
   ]
  },
  {
   "cell_type": "code",
   "execution_count": 1,
   "metadata": {},
   "outputs": [],
   "source": [
    "from scapy.all import *\n",
    "import glob\n",
    "import matplotlib as plt\n",
    "import os\n",
    "import pprint\n",
    "\n",
    "# root dir for all data\n",
    "data_dir = os.path.expanduser(\"~/outdata\")"
   ]
  },
  {
   "cell_type": "code",
   "execution_count": 2,
   "metadata": {},
   "outputs": [],
   "source": [
    "\n",
    "# Top level parsers\n",
    "# Use decorators to add functions to each parser type\n",
    "class Parser(object):\n",
    "    @staticmethod\n",
    "    def get_parser_from_name(infile: str):\n",
    "        pass\n",
    "    \n",
    "\n",
    "\n",
    "class ConnParserFactory(object):\n",
    "    pass\n",
    "\n",
    "\n",
    "class ProbeParser(Parser):\n",
    "    pass\n",
    "\n",
    "class ConnParser(Parser):\n",
    "    pass\n",
    "\n",
    "class StrategyArgWrapper(object):\n",
    "    '''\n",
    "    Simple wrapper for the different analysis we will\n",
    "    conduct on connections\n",
    "    '''\n",
    "    pass\n",
    "\n",
    "class ConnectionContext(object):\n",
    "    '''Simple wrapper for connection contexts'''\n",
    "    \n",
    "    \n",
    "    def __init__(self,context: str):\n",
    "        self.host = \"\"\n",
    "        self.proto = \"\"\n",
    "        self.flags = []\n",
    "        \n",
    "        context.split('-')\n",
    "    \n",
    "    def parse_pcap_file_name(file: str):\n",
    "        name, _ = os.path.splitext(file)\n",
    "    try:\n",
    "        host, conn_type, *flags = name.split('-')\n",
    "    except:\n",
    "        print(f\"Err parsing file name: {file}\")\n",
    "        return None\n",
    "\n",
    "\n",
    "file_types = [\n",
    "              \"tcp\", \"quic\", \"ntp_udp\",\n",
    "              \"ntp_tcp\",\"dns_udp\", \"dns_tcp\",\n",
    "              \"tcp_probe\", \"quic_probe\", \"ntp_tcp_probe\",\n",
    "              \"ntp_udp_probe\",\"dns_tcp_probe\",\"dns_udp_probe\"\n",
    "             ]\n",
    "\n",
    "# identifiers to file types\n",
    "file_globs = {elt: \"*-{i}-*\".format(i=elt.upper()) for elt in file_types}\n",
    "\n",
    "def _get_abs_sub_dirs(directory: str) -> List[str]:\n",
    "    return [os.path.join(directory, elt)  for elt in os.listdir(directory)]\n",
    "    \n",
    "# get files from output directory\n",
    "def get_instances(data_dir: str) -> List[str]:\n",
    "    return _get_abs_sub_dirs(data_dir)\n",
    "        \n",
    "def get_traces(instance_dir: str) -> List[str]:\n",
    "    return _get_abs_sub_dirs(instance_dir)\n",
    "\n",
    "def get_pcap_from_trace(trace_dir: str, glob_str: str = None):\n",
    "    \n",
    "    if not glob:\n",
    "        return _get_abs_sub_dirs(trace_dir)\n",
    "    \n",
    "    globed_path = os.path.join(trace_dir, glob_str)\n",
    "    return glob.glob(globed_path)\n",
    "    \n",
    "\n",
    "\n"
   ]
  },
  {
   "cell_type": "code",
   "execution_count": 6,
   "metadata": {},
   "outputs": [
    {
     "name": "stdout",
     "output_type": "stream",
     "text": [
      "length of packet is: 70\n"
     ]
    }
   ],
   "source": [
    "instances = get_instances(data_dir)\n",
    "inputs = []\n",
    "for instance in instances:\n",
    "    dic = {}\n",
    "    dic[\"name\"] = os.path.basename(instance)\n",
    "    traces = get_traces(instance)\n",
    "    \n",
    "    globs = {}\n",
    "    for trace in traces:\n",
    "        globs = {k:get_pcap_from_trace(trace, v) for k,v in file_globs.copy().items()}\n",
    "    \n",
    "    dic[\"traces\"] = globs\n",
    "    inputs.append(dic)\n",
    "    \n",
    "#pprint.pprint(inputs)\n",
    "\n",
    "scap_cap = rdpcap('/home/myleslamb/outdata/eu-west-1/trace0/139.162.219.252-NTP_TCP_PROBE-00.pcap')\n",
    "\n",
    "print(\"length of packet is: {}\".format(len(scap_cap)))\n",
    "\n",
    "for packet in scap_cap:\n",
    "    if IP in packet:\n",
    "        pass\n",
    "        \n",
    "    if ICMP in packet:\n",
    "        if IPerror in packet[ICMP] and TCPerror in packet[ICMP]:\n",
    "            pass\n",
    "\n",
    "    \n",
    "\n",
    "    \n",
    "    "
   ]
  },
  {
   "cell_type": "code",
   "execution_count": 9,
   "metadata": {},
   "outputs": [],
   "source": [
    "# Define some functions that help get some statistics from a connection\n",
    "\n",
    "def is_ecn_negotiated_tcp(packets: List[scapy.layers.l2.Ether], ctx: ConnectionContext) -> bool:\n",
    "    pass\n",
    "\n",
    "def get_ect_marked_packets(packets: List[scapy.layers.l2.Ether]) -> List[scapy.layers.l2.Ether]:\n",
    "    pass\n",
    "\n",
    "def is_reachable(packets: List[])\n",
    "\n"
   ]
  },
  {
   "cell_type": "code",
   "execution_count": null,
   "metadata": {},
   "outputs": [],
   "source": []
  }
 ],
 "metadata": {
  "kernelspec": {
   "display_name": "Python 3",
   "language": "python",
   "name": "python3"
  },
  "language_info": {
   "codemirror_mode": {
    "name": "ipython",
    "version": 3
   },
   "file_extension": ".py",
   "mimetype": "text/x-python",
   "name": "python",
   "nbconvert_exporter": "python",
   "pygments_lexer": "ipython3",
   "version": "3.8.6"
  }
 },
 "nbformat": 4,
 "nbformat_minor": 4
}
